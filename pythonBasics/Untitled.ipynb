{
 "cells": [
  {
   "cell_type": "code",
   "execution_count": 1,
   "id": "6bbd1689-4633-4e01-bad0-e91f45d8de71",
   "metadata": {},
   "outputs": [],
   "source": [
    "import openpyxl as xl"
   ]
  },
  {
   "cell_type": "code",
   "execution_count": 7,
   "id": "7e59ff89-e32a-4d88-9590-e76b8f494269",
   "metadata": {},
   "outputs": [],
   "source": [
    "wb = xl.load_workbook(filename='maven_ski_shop_data.xlsx')"
   ]
  },
  {
   "cell_type": "code",
   "execution_count": 13,
   "id": "e046349f-6a9b-4e31-bf51-4aca6b634d2b",
   "metadata": {},
   "outputs": [],
   "source": [
    "inventory = wb['Inventory_Levels']"
   ]
  },
  {
   "cell_type": "code",
   "execution_count": 15,
   "id": "5ed62ea2-5b50-4c5c-9b8f-5e3ccb5aef42",
   "metadata": {},
   "outputs": [
    {
     "data": {
      "text/plain": [
       "'Quantity_in_stock'"
      ]
     },
     "execution_count": 15,
     "metadata": {},
     "output_type": "execute_result"
    }
   ],
   "source": [
    "inventory['B1'].value"
   ]
  },
  {
   "cell_type": "code",
   "execution_count": null,
   "id": "579e81b2-af5f-46ab-b090-0053c0b03f0b",
   "metadata": {},
   "outputs": [],
   "source": []
  }
 ],
 "metadata": {
  "kernelspec": {
   "display_name": "Python 3 (ipykernel)",
   "language": "python",
   "name": "python3"
  },
  "language_info": {
   "codemirror_mode": {
    "name": "ipython",
    "version": 3
   },
   "file_extension": ".py",
   "mimetype": "text/x-python",
   "name": "python",
   "nbconvert_exporter": "python",
   "pygments_lexer": "ipython3",
   "version": "3.12.4"
  }
 },
 "nbformat": 4,
 "nbformat_minor": 5
}
