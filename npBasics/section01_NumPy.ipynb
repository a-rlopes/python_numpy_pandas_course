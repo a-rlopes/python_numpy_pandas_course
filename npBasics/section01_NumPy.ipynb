{
 "cells": [
  {
   "cell_type": "markdown",
   "id": "d0d4a2ef",
   "metadata": {},
   "source": [
    "### Package Imports"
   ]
  },
  {
   "cell_type": "code",
   "execution_count": 1,
   "id": "dbd96293",
   "metadata": {},
   "outputs": [],
   "source": [
    "import numpy as np"
   ]
  },
  {
   "cell_type": "markdown",
   "id": "3a5e9bd3",
   "metadata": {},
   "source": [
    "# Assignment 1: Array Basics\n",
    "\n",
    "Hi there,\n",
    "\n",
    "Can you import Numpy and convert the following list comprehension (I just learned about comprehensions in an awesome course by Maven) into an array?\n",
    "\n",
    "Once you've done that report the following about the array:\n",
    "* The number of dimensions \n",
    "* The shape\n",
    "* The number of elements in the array\n",
    "* The type of data contained inside"
   ]
  },
  {
   "cell_type": "code",
   "execution_count": 23,
   "id": "6d3f8d99",
   "metadata": {},
   "outputs": [
    {
     "data": {
      "text/plain": [
       "array([ 10,  20,  30,  40,  50,  60,  70,  80,  90, 100])"
      ]
     },
     "execution_count": 23,
     "metadata": {},
     "output_type": "execute_result"
    }
   ],
   "source": [
    "my_list = [x * 10 for x in range(1, 11)]\n",
    "my_list = np.array(my_list)\n",
    "my_list"
   ]
  },
  {
   "cell_type": "code",
   "execution_count": 21,
   "id": "ac0d2c7b",
   "metadata": {},
   "outputs": [
    {
     "data": {
      "text/plain": [
       "1"
      ]
     },
     "execution_count": 21,
     "metadata": {},
     "output_type": "execute_result"
    }
   ],
   "source": [
    "my_list.ndim"
   ]
  },
  {
   "cell_type": "code",
   "execution_count": 15,
   "id": "49d55877",
   "metadata": {},
   "outputs": [
    {
     "data": {
      "text/plain": [
       "(10,)"
      ]
     },
     "execution_count": 15,
     "metadata": {},
     "output_type": "execute_result"
    }
   ],
   "source": [
    "my_list.shape"
   ]
  },
  {
   "cell_type": "code",
   "execution_count": 13,
   "id": "7b50a227",
   "metadata": {},
   "outputs": [
    {
     "data": {
      "text/plain": [
       "10"
      ]
     },
     "execution_count": 13,
     "metadata": {},
     "output_type": "execute_result"
    }
   ],
   "source": [
    "my_list.size"
   ]
  },
  {
   "cell_type": "code",
   "execution_count": 19,
   "id": "6c5d9bd1",
   "metadata": {},
   "outputs": [
    {
     "data": {
      "text/plain": [
       "dtype('int64')"
      ]
     },
     "execution_count": 19,
     "metadata": {},
     "output_type": "execute_result"
    }
   ],
   "source": [
    "my_list.dtype"
   ]
  },
  {
   "cell_type": "markdown",
   "id": "8ff92bb7",
   "metadata": {},
   "source": [
    "# Assignment 2: Array Creation\n",
    "\n",
    "Thanks for your help with the first piece - I'm starting to understand some of the key differences between base Python data types and NumPy arrays. \n",
    "\n",
    "Does NumPy have anything like the range() function from base Python?\n",
    "\n",
    "If so: \n",
    "* create the same array from assignment 1 using a NumPy function. \n",
    "* Make it 5 rows and 2 columns. \n",
    "* It's ok if the datatype is float or int."
   ]
  },
  {
   "cell_type": "markdown",
   "id": "b6dab2df-9578-42ae-bff6-76ba46ec76f5",
   "metadata": {},
   "source": [
    "range_array = np.arange(10,110,10).reshape(5,2)\n",
    "range_array2 = np.linspace(10,110,10).reshape(5,2)\n",
    "range_array2"
   ]
  },
  {
   "cell_type": "markdown",
   "id": "e0849aa4",
   "metadata": {},
   "source": [
    "Looking good so far! One of our data scientists asked about random number generation in NumPy.\n",
    "\n",
    "Can you create a 3x3 array of random numbers between 0 and 1? Use a random state of 2022.\n",
    "\n",
    "Store the random array in a variable called `random_array`."
   ]
  },
  {
   "cell_type": "code",
   "execution_count": 62,
   "id": "a2e29128",
   "metadata": {},
   "outputs": [
    {
     "data": {
      "text/plain": [
       "array([[0.24742606, 0.09299006, 0.61176337],\n",
       "       [0.06066207, 0.66103343, 0.75515778],\n",
       "       [0.1108689 , 0.04305584, 0.41441747]])"
      ]
     },
     "execution_count": 62,
     "metadata": {},
     "output_type": "execute_result"
    }
   ],
   "source": [
    "rng = np.random.default_rng(2022)\n",
    "random_array = rng.random((3,3))\n",
    "random_array"
   ]
  },
  {
   "cell_type": "markdown",
   "id": "6927e8b0",
   "metadata": {},
   "source": [
    "# Assignment 3: Accessing Array Data\n",
    "\n",
    "\n",
    "Slice and index the `random_array` we created in the previous exercise. Perform the following:\n",
    "\n",
    "* Grab the first two 'rows' of the array\n",
    "* Grab the entire first column\n",
    "* Finally, grab the second selement of the third row.\n",
    "\n",
    "Thanks!\n"
   ]
  },
  {
   "cell_type": "code",
   "execution_count": 70,
   "id": "62a4e208",
   "metadata": {},
   "outputs": [
    {
     "data": {
      "text/plain": [
       "array([[0.24742606, 0.09299006, 0.61176337],\n",
       "       [0.06066207, 0.66103343, 0.75515778]])"
      ]
     },
     "execution_count": 70,
     "metadata": {},
     "output_type": "execute_result"
    }
   ],
   "source": [
    "random_array[:2]"
   ]
  },
  {
   "cell_type": "code",
   "execution_count": 80,
   "id": "8f9e9acf",
   "metadata": {
    "scrolled": true
   },
   "outputs": [
    {
     "data": {
      "text/plain": [
       "array([0.24742606, 0.06066207, 0.1108689 ])"
      ]
     },
     "execution_count": 80,
     "metadata": {},
     "output_type": "execute_result"
    }
   ],
   "source": [
    "random_array[:,0]"
   ]
  },
  {
   "cell_type": "code",
   "execution_count": 82,
   "id": "87fa83f7",
   "metadata": {},
   "outputs": [
    {
     "data": {
      "text/plain": [
       "0.04305584439252108"
      ]
     },
     "execution_count": 82,
     "metadata": {},
     "output_type": "execute_result"
    }
   ],
   "source": [
    "random_array[2,1]"
   ]
  },
  {
   "cell_type": "code",
   "execution_count": null,
   "id": "fe985696",
   "metadata": {},
   "outputs": [],
   "source": []
  },
  {
   "cell_type": "markdown",
   "id": "6e9ae36a",
   "metadata": {},
   "source": [
    "# Assignment 4: Arithmetic Operations"
   ]
  },
  {
   "cell_type": "markdown",
   "id": "b7283da4",
   "metadata": {},
   "source": [
    "The creativity of our marketing team knows no bounds!\n",
    "\n",
    "They've asked us to come up with a simple algorithm to provide a random discount to our list of prices below. \n",
    "\n",
    "Before we do that, \n",
    "\n",
    "* Add a 5 dollar shipping fee to each price. Call this array `total`.\n",
    "\n",
    "Once we have that, we want to use the random_array created in assignment 2 and apply them to the 6 prices.\n",
    "\n",
    "* Grab the first 6 numbers from `random_array`, reshape it to one dimension. Call this `discount_pct`.\n",
    "* Subtract `discount_pct` FROM 1, store this in `pct_owed`.\n",
    "* Multiply `pct_owed` by `total` to get the final amount owed."
   ]
  },
  {
   "cell_type": "code",
   "execution_count": 84,
   "id": "f44773da",
   "metadata": {},
   "outputs": [
    {
     "data": {
      "text/plain": [
       "array([ 10.99,  11.99,  27.49, 104.99,   9.99,  54.99])"
      ]
     },
     "execution_count": 84,
     "metadata": {},
     "output_type": "execute_result"
    }
   ],
   "source": [
    "prices = np.array([5.99, 6.99, 22.49, 99.99, 4.99, 49.99])\n",
    "total = prices + 5\n",
    "total"
   ]
  },
  {
   "cell_type": "code",
   "execution_count": 92,
   "id": "9171609a",
   "metadata": {},
   "outputs": [],
   "source": [
    "discounts = random_array[:2].reshape(6)"
   ]
  },
  {
   "cell_type": "code",
   "execution_count": 94,
   "id": "a06dbc29",
   "metadata": {},
   "outputs": [],
   "source": [
    "pct_owed = 1 - discounts"
   ]
  },
  {
   "cell_type": "code",
   "execution_count": 106,
   "id": "da03368e",
   "metadata": {},
   "outputs": [
    {
     "data": {
      "text/plain": [
       "array([ 8.27, 10.88, 10.67, 98.62,  3.39, 13.46])"
      ]
     },
     "execution_count": 106,
     "metadata": {},
     "output_type": "execute_result"
    }
   ],
   "source": [
    "final = total * pct_owed\n",
    "final = final.round(2)\n",
    "final"
   ]
  },
  {
   "cell_type": "markdown",
   "id": "30400903",
   "metadata": {},
   "source": [
    "# Assignment 5: Filtering Arrays\n",
    "\n",
    "Filter the product array to only include those with prices greater than 25.\n",
    "\n",
    "Modify your logic to include cola, despite it not having a price greater than 25. \n",
    "Store the elements returned in an array called `fancy_feast_special`.\n",
    "\n",
    "Next, create a shipping cost array where the cost is 0 if price is greater than 20, and 5 if not. "
   ]
  },
  {
   "cell_type": "code",
   "execution_count": 124,
   "id": "c144c432",
   "metadata": {},
   "outputs": [],
   "source": [
    "products = np.array(\n",
    "    [\"salad\", \"bread\", \"mustard\", \"rare tomato\", \"cola\", \"gourmet ice cream\"]\n",
    ")\n"
   ]
  },
  {
   "cell_type": "code",
   "execution_count": null,
   "id": "ba1b077b",
   "metadata": {},
   "outputs": [],
   "source": [
    "products[prices > 25]"
   ]
  },
  {
   "cell_type": "code",
   "execution_count": null,
   "id": "4002705c",
   "metadata": {},
   "outputs": [],
   "source": [
    "mask = prices > 25 | (products == \"cola\")\n",
    "fancy_feast_special = products[mask] "
   ]
  },
  {
   "cell_type": "code",
   "execution_count": 132,
   "id": "4a8368d4",
   "metadata": {},
   "outputs": [
    {
     "data": {
      "text/plain": [
       "array([5, 5, 0, 0, 5, 0])"
      ]
     },
     "execution_count": 132,
     "metadata": {},
     "output_type": "execute_result"
    }
   ],
   "source": [
    "shipping = np.where(prices > 20, 0, 5)\n",
    "shipping"
   ]
  },
  {
   "cell_type": "markdown",
   "id": "44ce04ed",
   "metadata": {},
   "source": [
    "# Assignment 6: Aggregating and Sorting Arrays\n",
    "\n",
    "First, grab the top 3 highest priced items in our list. \n",
    "\n",
    "Then, calculated the mean, min, max, and median of the top three prices.\n",
    "\n",
    "Finally, calculate the number of unique price tiers in our `price_tiers` array."
   ]
  },
  {
   "cell_type": "code",
   "execution_count": 226,
   "id": "f97f4598",
   "metadata": {},
   "outputs": [],
   "source": [
    "prices = np.array([5.99, 6.99, 22.49, 99.99, 4.99, 49.99])"
   ]
  },
  {
   "cell_type": "code",
   "execution_count": 259,
   "id": "c462eeef",
   "metadata": {},
   "outputs": [
    {
     "data": {
      "text/plain": [
       "array([22.49, 49.99, 99.99])"
      ]
     },
     "execution_count": 259,
     "metadata": {},
     "output_type": "execute_result"
    }
   ],
   "source": [
    "top3 = np.sort(prices)[-3:]\n",
    "top3"
   ]
  },
  {
   "cell_type": "code",
   "execution_count": 238,
   "id": "4a0b5694",
   "metadata": {},
   "outputs": [
    {
     "data": {
      "text/plain": [
       "99.99"
      ]
     },
     "execution_count": 238,
     "metadata": {},
     "output_type": "execute_result"
    }
   ],
   "source": [
    "np.mean(top3)\n",
    "np.min(top3) # or top3[0] if the array was sorted in-place with prices-sort()\n",
    "np.max(top3) # or top3[-1] ...."
   ]
  },
  {
   "cell_type": "code",
   "execution_count": 240,
   "id": "de696f1a",
   "metadata": {},
   "outputs": [
    {
     "data": {
      "text/plain": [
       "49.99"
      ]
     },
     "execution_count": 240,
     "metadata": {},
     "output_type": "execute_result"
    }
   ],
   "source": [
    "np.median(top3)"
   ]
  },
  {
   "cell_type": "code",
   "execution_count": 218,
   "id": "b9087568",
   "metadata": {},
   "outputs": [],
   "source": [
    "price_tiers = np.array([\"budget\", \"budget\", \"mid-tier\", \"luxury\", \"mid-tier\", \"luxury\"])"
   ]
  },
  {
   "cell_type": "code",
   "execution_count": 252,
   "id": "6b6e2292",
   "metadata": {},
   "outputs": [
    {
     "data": {
      "text/plain": [
       "3"
      ]
     },
     "execution_count": 252,
     "metadata": {},
     "output_type": "execute_result"
    }
   ],
   "source": [
    "np.unique(price_tiers).size"
   ]
  },
  {
   "cell_type": "markdown",
   "id": "31b66238",
   "metadata": {},
   "source": [
    "# Assignment 7: Bringing it All Together\n",
    "\n",
    "Ok, final NumPy task - let's read in some data with the help of Pandas.\n",
    "\n",
    "Our data scientist provided the code to read in a csv as a Pandas dataframe, and has converted the two columns of interest to arrays.\n",
    "\n",
    "* Filter `sales_array` down to only sales where the product family was produce. \n",
    "\n",
    "* Then, randomly sample roughly half (random number < .5) of the produce sales and report the mean and median sales. Use a random seed of 2022.\n",
    "\n",
    "* Finally, create a new array that has the values 'above_both', 'above_median', and 'below_both' based on whether the sales were above the median and mean of the sample, just above the median of the sample, or below both the median and mean of the sample. "
   ]
  },
  {
   "cell_type": "code",
   "execution_count": 297,
   "id": "5b567c99",
   "metadata": {},
   "outputs": [],
   "source": [
    "import pandas as pd\n",
    "import numpy as np\n",
    "\n",
    "retail_df = pd.read_csv(\n",
    "    \"../retail/retail_2016_2017.csv\", skiprows=range(1, 11000), nrows=1000\n",
    ")\n",
    "\n",
    "family = np.array(retail_df[\"family\"])\n",
    "sales = np.array(retail_df[\"sales\"])\n"
   ]
  },
  {
   "cell_type": "code",
   "execution_count": 299,
   "id": "a0424a65",
   "metadata": {},
   "outputs": [
    {
     "data": {
      "text/plain": [
       "array([1662.394,  447.064, 2423.944,  962.866, 1236.404,  298.441,\n",
       "       1077.44 , 3404.531,  962.96 ,  279.505, 1852.786, 1089.319,\n",
       "        726.516, 7860.031,  446.038, 1155.385,  120.202,  862.092,\n",
       "        473.952,  254.263, 1272.755, 2775.771, 2030.762, 1657.432,\n",
       "       2339.906,  722.333, 1567.843, 2458.456,  673.885, 8834.15 ])"
      ]
     },
     "execution_count": 299,
     "metadata": {},
     "output_type": "execute_result"
    }
   ],
   "source": [
    "produce_sales = sales[family == \"PRODUCE\"]\n",
    "produce_sales"
   ]
  },
  {
   "cell_type": "code",
   "execution_count": 301,
   "id": "96eaf423",
   "metadata": {},
   "outputs": [
    {
     "data": {
      "text/plain": [
       "array([1662.394,  447.064, 2423.944,  962.866, 1077.44 ,  279.505,\n",
       "       7860.031,  862.092, 2775.771,  673.885])"
      ]
     },
     "execution_count": 301,
     "metadata": {},
     "output_type": "execute_result"
    }
   ],
   "source": [
    "random_sample = produce_sales[rng.random(produce_sales.size) <.5]\n",
    "random_sample"
   ]
  },
  {
   "cell_type": "code",
   "execution_count": 319,
   "id": "432041d4",
   "metadata": {},
   "outputs": [
    {
     "data": {
      "text/plain": [
       "array([2291.06 , 3033.   , 2453.   , 2623.   , 3408.   , 2423.944,\n",
       "       2429.   , 4079.534, 3449.   , 3161.489, 2076.   , 3200.   ,\n",
       "       3528.   , 3404.531, 2098.   , 2538.   , 2659.   , 2887.654,\n",
       "       2405.857, 6567.   , 1914.   , 1917.   , 6487.   , 7860.031,\n",
       "       2270.   , 3890.797, 2947.465, 2240.   , 3191.631, 2643.   ,\n",
       "       3926.812, 2481.   , 3349.   , 2775.771, 3078.   , 2030.762,\n",
       "       2951.   , 3674.15 , 2191.   , 2977.   , 2339.906, 2561.   ,\n",
       "       4045.   , 2229.   , 2243.   , 2458.456, 3436.   , 3348.   ,\n",
       "       7005.   , 2172.   , 2371.   , 7594.   , 8834.15 , 6771.   ,\n",
       "       2271.   , 7694.   ])"
      ]
     },
     "execution_count": 319,
     "metadata": {},
     "output_type": "execute_result"
    }
   ],
   "source": [
    "above_both = sales[(sales > np.median(random_sample)) & (sales > np.mean(random_sample))]\n",
    "above_both"
   ]
  },
  {
   "cell_type": "code",
   "execution_count": 307,
   "id": "e0186438",
   "metadata": {},
   "outputs": [
    {
     "data": {
      "text/plain": [
       "array([2291.06 , 1662.394, 3033.   , 2453.   , 2623.   , 3408.   ,\n",
       "       2423.944, 2429.   , 1180.   , 4079.534, 3449.   , 3161.489,\n",
       "       1236.404, 1095.   , 1588.   , 1364.   , 2076.   , 1077.44 ,\n",
       "       3200.   , 3528.   , 3404.531, 1551.   , 1401.   , 2098.   ,\n",
       "       2538.   , 1852.786, 2659.   , 2887.654, 1089.319, 1680.   ,\n",
       "       2405.857, 6567.   , 1113.326, 1914.   , 1917.   , 6487.   ,\n",
       "       1029.052, 7860.031, 1298.   , 1541.   , 2270.   , 1186.   ,\n",
       "       3890.797, 1155.385, 1027.   , 1731.   , 1135.   , 2947.465,\n",
       "       2240.   , 3191.631, 1866.   , 1293.   , 2643.   , 3926.812,\n",
       "       1272.755, 2481.   , 3349.   , 2775.771, 1867.   , 3078.   ,\n",
       "       2030.762, 2951.   , 1194.   , 3674.15 , 1657.432, 2191.   ,\n",
       "       2977.   , 2339.906, 2561.   , 1325.   , 4045.   , 1436.   ,\n",
       "       2229.   , 1567.843, 1857.   , 2243.   , 2458.456, 3436.   ,\n",
       "       1164.   , 3348.   , 7005.   , 2172.   , 2371.   , 7594.   ,\n",
       "       1107.199, 8834.15 , 6771.   , 2271.   , 1800.   , 7694.   ])"
      ]
     },
     "execution_count": 307,
     "metadata": {},
     "output_type": "execute_result"
    }
   ],
   "source": [
    "above_median = sales[sales > np.median(random_sample)]\n",
    "above_median"
   ]
  },
  {
   "cell_type": "code",
   "execution_count": 317,
   "id": "33c9a16a",
   "metadata": {},
   "outputs": [
    {
     "data": {
      "text/plain": [
       "array([1.77000000e+02, 3.60000000e+01, 1.60000000e+01, 2.00000000e+00,\n",
       "       1.20000000e+01, 7.00000000e+00, 0.00000000e+00, 1.94000000e+02,\n",
       "       3.00000000e+00, 2.00000000e+00, 6.00000000e+00, 4.60000000e+01,\n",
       "       1.00000000e+00, 2.18416000e+02, 1.84000000e+02, 4.00000000e+00,\n",
       "       1.00000000e+00, 2.63230000e+02, 5.10000000e+01, 0.00000000e+00,\n",
       "       6.53600030e+00, 1.00000000e+01, 0.00000000e+00, 2.00000000e+00,\n",
       "       0.00000000e+00, 1.61000000e+02, 1.20000000e+01, 7.18000000e+02,\n",
       "       2.67000000e+02, 2.80000000e+02, 2.70000000e+01, 4.70000000e+01,\n",
       "       2.00000000e+00, 1.00000000e+00, 2.20000000e+01, 8.00000000e+00,\n",
       "       0.00000000e+00, 1.39000000e+02, 1.00000000e+00, 0.00000000e+00,\n",
       "       2.00000000e+00, 4.60000000e+01, 1.00000000e+00, 1.68847000e+02,\n",
       "       1.90000000e+02, 0.00000000e+00, 0.00000000e+00, 2.18873000e+02,\n",
       "       4.60000000e+01, 4.47064000e+02, 0.00000000e+00, 4.00000000e+00,\n",
       "       9.00000000e+00, 0.00000000e+00, 4.00000000e+00, 0.00000000e+00,\n",
       "       4.99000000e+02, 6.00000000e+00, 9.01000000e+02, 7.88000000e+02,\n",
       "       1.83632000e+02, 1.45000000e+02, 1.34381000e+02, 3.10000000e+01,\n",
       "       4.00000000e+00, 1.50000000e+01, 3.90000000e+01, 1.00000000e+00,\n",
       "       2.34000000e+02, 2.60000000e+01, 4.00000000e+00, 7.00000000e+00,\n",
       "       4.90000000e+01, 1.00000000e+00, 3.54564000e+02, 2.36000000e+02,\n",
       "       9.00000000e+00, 3.00000000e+00, 4.12055000e+02, 1.42694000e+02,\n",
       "       0.00000000e+00, 2.76400000e+01, 7.00000000e+00, 3.00000000e+00,\n",
       "       1.00000000e+00, 0.00000000e+00, 3.21000000e+02, 6.00000000e+00,\n",
       "       5.79000000e+02, 4.72523000e+02, 5.80000000e+01, 5.20000000e+01,\n",
       "       1.40000000e+01, 0.00000000e+00, 1.20000000e+01, 1.10000000e+01,\n",
       "       0.00000000e+00, 2.80000000e+02, 2.00000000e+00, 2.00000000e+00,\n",
       "       1.00000000e+00, 2.90000000e+01, 1.00000000e+00, 4.71233000e+02,\n",
       "       3.30000000e+02, 2.00000000e+00, 6.00000000e+00, 2.91393980e+02,\n",
       "       9.75730000e+01, 9.62866000e+02, 0.00000000e+00, 7.00000000e+00,\n",
       "       1.10000000e+01, 1.00000000e+00, 2.00000000e+00, 0.00000000e+00,\n",
       "       3.70000000e+02, 6.00000000e+00, 1.00700000e+03, 3.80000000e+02,\n",
       "       2.20475000e+02, 1.09000000e+02, 6.74010000e+01, 3.00000000e+00,\n",
       "       0.00000000e+00, 2.90000000e+01, 3.10000000e+01, 0.00000000e+00,\n",
       "       2.77000000e+02, 2.00000000e+00, 0.00000000e+00, 3.00000000e+00,\n",
       "       2.10000000e+01, 1.00000000e+00, 1.08595000e+02, 3.29000000e+02,\n",
       "       2.00000000e+00, 1.10000000e+01, 1.53788000e+02, 9.40730000e+01,\n",
       "       0.00000000e+00, 0.00000000e+00, 2.00000000e+00, 0.00000000e+00,\n",
       "       1.00000000e+00, 0.00000000e+00, 9.80000000e+01, 8.00000000e+00,\n",
       "       5.37000000e+02, 2.12000000e+02, 1.03000000e+02, 5.30000000e+01,\n",
       "       2.60000000e+01, 3.00000000e+00, 0.00000000e+00, 1.50000000e+01,\n",
       "       1.20000000e+01, 0.00000000e+00, 1.22000000e+02, 0.00000000e+00,\n",
       "       0.00000000e+00, 6.00000000e+00, 1.10000000e+01, 0.00000000e+00,\n",
       "       1.11437004e+02, 1.48000000e+02, 1.00000000e+00, 1.00000000e+00,\n",
       "       3.30179980e+01, 3.10000000e+01, 2.98441000e+02, 1.00000000e+00,\n",
       "       2.00000000e+00, 2.00000000e+00, 0.00000000e+00, 0.00000000e+00,\n",
       "       0.00000000e+00, 2.03313000e+02, 1.00000000e+01, 5.39000000e+02,\n",
       "       4.53000000e+02, 1.38179000e+02, 5.20000000e+01, 7.00340000e+01,\n",
       "       1.20000000e+01, 0.00000000e+00, 6.00000000e+00, 1.30000000e+01,\n",
       "       0.00000000e+00, 1.36000000e+02, 3.00000000e+00, 0.00000000e+00,\n",
       "       2.00000000e+00, 3.20000000e+01, 0.00000000e+00, 8.00111000e+02,\n",
       "       1.63000000e+02, 1.00000000e+00, 0.00000000e+00, 3.12476000e+02,\n",
       "       3.49690000e+01, 0.00000000e+00, 1.02770000e+01, 3.00000000e+00,\n",
       "       0.00000000e+00, 6.00000000e+00, 0.00000000e+00, 6.14430000e+02,\n",
       "       3.20000000e+01, 9.74000000e+02, 1.01600000e+03, 1.98649000e+02,\n",
       "       1.58000000e+02, 1.78429000e+02, 2.30000000e+01, 1.00000000e+00,\n",
       "       1.80000000e+01, 2.70000000e+01, 0.00000000e+00, 2.70000000e+02,\n",
       "       1.70000000e+01, 1.00000000e+01, 8.00000000e+00, 9.20000000e+01,\n",
       "       1.10000000e+01, 2.35896000e+02, 2.74000000e+02, 8.00000000e+00,\n",
       "       1.30000000e+01, 3.89541000e+02, 1.05658005e+02, 0.00000000e+00,\n",
       "       2.87380000e+01, 1.00000000e+00, 0.00000000e+00, 3.00000000e+00,\n",
       "       0.00000000e+00, 1.96480000e+02, 3.00000000e+00, 3.75000000e+02,\n",
       "       4.08000000e+02, 7.31420000e+01, 8.50000000e+01, 8.62180000e+01,\n",
       "       5.00000000e+00, 0.00000000e+00, 1.70000000e+01, 7.00000000e+00,\n",
       "       0.00000000e+00, 8.40000000e+01, 0.00000000e+00, 3.00000000e+00,\n",
       "       6.00000000e+00, 9.90000000e+01, 2.00000000e+00, 1.23234000e+02,\n",
       "       9.10000000e+01, 7.00000000e+00, 3.00000000e+00, 1.05806000e+02,\n",
       "       4.00780000e+01, 9.62960000e+02, 0.00000000e+00, 4.00000000e+00,\n",
       "       1.00000000e+00, 0.00000000e+00, 2.00000000e+00, 6.18000000e+02,\n",
       "       0.00000000e+00, 1.31456000e+02, 5.00000000e+00, 2.78000000e+02,\n",
       "       1.20000000e+02, 4.29330000e+01, 1.60000000e+01, 5.33540000e+01,\n",
       "       9.63000000e+02, 0.00000000e+00, 0.00000000e+00, 1.50000000e+01,\n",
       "       0.00000000e+00, 0.00000000e+00, 5.60000000e+01, 2.00000000e+00,\n",
       "       0.00000000e+00, 3.00000000e+00, 1.00000000e+01, 0.00000000e+00,\n",
       "       1.77339000e+02, 1.13000000e+02, 1.00000000e+00, 1.00000000e+00,\n",
       "       1.08260000e+02, 1.80000000e+01, 2.79505000e+02, 0.00000000e+00,\n",
       "       2.00000000e+00, 6.00000000e+00, 0.00000000e+00, 4.00000000e+00,\n",
       "       0.00000000e+00, 4.55119000e+02, 9.00000000e+00, 7.04000000e+02,\n",
       "       6.94000000e+02, 1.80483000e+02, 1.62000000e+02, 1.20056000e+02,\n",
       "       1.40000000e+01, 4.00000000e+00, 1.40000000e+01, 1.80000000e+01,\n",
       "       0.00000000e+00, 1.45000000e+02, 1.00000000e+00, 8.00000000e+00,\n",
       "       0.00000000e+00, 7.50000000e+01, 3.00000000e+00, 2.52745000e+02,\n",
       "       4.91000000e+02, 8.00000000e+00, 5.00000000e+00, 2.95347000e+02,\n",
       "       8.20730000e+01, 2.00000000e+00, 2.35290000e+01, 4.00000000e+00,\n",
       "       0.00000000e+00, 1.00000000e+00, 0.00000000e+00, 4.31000000e+02,\n",
       "       1.20000000e+01, 8.34000000e+02, 4.62000000e+02, 3.06972000e+02,\n",
       "       1.53000000e+02, 8.98670040e+01, 3.00000000e+00, 0.00000000e+00,\n",
       "       2.30000000e+01, 1.70000000e+01, 0.00000000e+00, 1.88000000e+02,\n",
       "       0.00000000e+00, 0.00000000e+00, 2.00000000e+00, 2.60000000e+01,\n",
       "       2.00000000e+00, 2.75741000e+02, 4.55000000e+02, 3.00000000e+00,\n",
       "       0.00000000e+00, 2.09894000e+02, 6.47860000e+01, 0.00000000e+00,\n",
       "       9.00000000e+00, 6.00000000e+00, 0.00000000e+00, 1.00000000e+00,\n",
       "       0.00000000e+00, 4.26000000e+02, 5.00000000e+00, 7.68000000e+02,\n",
       "       3.98000000e+02, 2.10642000e+02, 1.42000000e+02, 5.20000000e+01,\n",
       "       7.00000000e+00, 3.00000000e+00, 1.60000000e+01, 1.70000000e+01,\n",
       "       1.00000000e+00, 1.67000000e+02, 0.00000000e+00, 0.00000000e+00,\n",
       "       6.00000000e+00, 7.50000000e+01, 1.00000000e+00, 1.62416000e+02,\n",
       "       2.60000000e+02, 3.00000000e+00, 2.00000000e+00, 1.37833000e+02,\n",
       "       4.57270000e+01, 7.26516000e+02, 1.00000000e+00, 5.00000000e+00,\n",
       "       1.60000000e+01, 0.00000000e+00, 8.00000000e+00, 0.00000000e+00,\n",
       "       4.40000000e+01, 2.83622000e+02, 3.76000000e+02, 3.63709000e+02,\n",
       "       5.80000000e+01, 4.00000000e+00, 4.30000000e+01, 6.60000000e+01,\n",
       "       2.00000000e+00, 4.38000000e+02, 3.80000000e+01, 5.00000000e+00,\n",
       "       1.40000000e+01, 2.09000000e+02, 2.00000000e+00, 6.44307000e+02,\n",
       "       5.30000000e+02, 2.40000000e+01, 1.60000000e+01, 2.92207000e+02,\n",
       "       2.00000000e+00, 8.19630000e+01, 2.00000000e+00, 0.00000000e+00,\n",
       "       1.00000000e+00, 0.00000000e+00, 1.59000000e+02, 2.00000000e+00,\n",
       "       5.36000000e+02, 2.37000000e+02, 8.90000000e+01, 1.00000000e+02,\n",
       "       6.25540000e+01, 4.00000000e+00, 0.00000000e+00, 1.30000000e+01,\n",
       "       3.00000000e+00, 0.00000000e+00, 1.17000000e+02, 2.00000000e+00,\n",
       "       0.00000000e+00, 0.00000000e+00, 2.80000000e+01, 1.00000000e+00,\n",
       "       1.34618000e+02, 1.03000000e+02, 3.00000000e+00, 3.00000000e+00,\n",
       "       1.26062000e+02, 3.40000000e+01, 4.46038000e+02, 0.00000000e+00,\n",
       "       1.00000000e+00, 9.00000000e+00, 2.00000000e+00, 3.00000000e+00,\n",
       "       0.00000000e+00, 4.21000000e+02, 4.00000000e+00, 5.67000000e+02,\n",
       "       2.81808000e+02, 2.44000000e+02, 1.04925000e+02, 1.30000000e+01,\n",
       "       1.00000000e+00, 1.00000000e+01, 1.50000000e+01, 1.00000000e+00,\n",
       "       2.33000000e+02, 1.00000000e+00, 0.00000000e+00, 4.00000000e+00,\n",
       "       1.40000000e+01, 0.00000000e+00, 5.35779000e+02, 3.45000000e+02,\n",
       "       2.00000000e+00, 9.00000000e+00, 1.64079000e+02, 9.90000000e+01,\n",
       "       0.00000000e+00, 8.00000000e+00, 5.00000000e+00, 0.00000000e+00,\n",
       "       0.00000000e+00, 6.13000000e+02, 0.00000000e+00, 6.40000000e+01,\n",
       "       0.00000000e+00, 3.18000000e+02, 1.00000000e+02, 9.40000000e+01,\n",
       "       8.00000000e+01, 2.10000000e+01, 1.00000000e+00, 1.00000000e+00,\n",
       "       3.00000000e+00, 3.00000000e+00, 0.00000000e+00, 9.10000000e+01,\n",
       "       0.00000000e+00, 0.00000000e+00, 2.00000000e+00, 3.00000000e+01,\n",
       "       0.00000000e+00, 7.12690000e+01, 8.70000000e+01, 0.00000000e+00,\n",
       "       0.00000000e+00, 5.98080020e+01, 3.00000000e+00, 1.20202000e+02,\n",
       "       0.00000000e+00, 3.00000000e+00, 1.00000000e+00, 0.00000000e+00,\n",
       "       1.00000000e+00, 0.00000000e+00, 1.93000000e+02, 4.00000000e+00,\n",
       "       3.53000000e+02, 1.87000000e+02, 1.76000000e+02, 3.22800000e+01,\n",
       "       3.00000000e+00, 2.00000000e+00, 1.00000000e+02, 1.70000000e+01,\n",
       "       0.00000000e+00, 2.10000000e+02, 0.00000000e+00, 0.00000000e+00,\n",
       "       3.00000000e+00, 3.20000000e+01, 1.00000000e+00, 2.62509000e+02,\n",
       "       2.79000000e+02, 3.00000000e+00, 3.00000000e+00, 2.14322000e+02,\n",
       "       2.30000000e+01, 8.62092000e+02, 0.00000000e+00, 3.00000000e+00,\n",
       "       3.00000000e+00, 2.00000000e+00, 1.00000000e+00, 0.00000000e+00,\n",
       "       5.11000000e+02, 1.70000000e+01, 8.85000000e+02, 4.90000000e+02,\n",
       "       2.29672000e+02, 1.28000000e+02, 1.48670000e+02, 7.00000000e+00,\n",
       "       2.00000000e+00, 2.90000000e+01, 1.80000000e+01, 0.00000000e+00,\n",
       "       2.19000000e+02, 4.00000000e+00, 0.00000000e+00, 3.00000000e+00,\n",
       "       3.70000000e+01, 1.00000000e+00, 1.29390000e+02, 3.30000000e+02,\n",
       "       1.00000000e+00, 6.00000000e+00, 1.08375000e+02, 9.00000000e+00,\n",
       "       4.73952000e+02, 6.00000000e+00, 2.00000000e+00, 3.00000000e+00,\n",
       "       0.00000000e+00, 1.00000000e+00, 0.00000000e+00, 5.90000000e+01,\n",
       "       3.00000000e+00, 3.83000000e+02, 1.29000000e+02, 9.70000000e+01,\n",
       "       5.60000000e+01, 4.34040000e+01, 5.00000000e+00, 0.00000000e+00,\n",
       "       9.00000000e+00, 1.10000000e+01, 0.00000000e+00, 6.70000000e+01,\n",
       "       0.00000000e+00, 0.00000000e+00, 0.00000000e+00, 1.80000000e+01,\n",
       "       1.00000000e+00, 2.28813000e+02, 7.70000000e+01, 1.00000000e+00,\n",
       "       0.00000000e+00, 4.59500000e+01, 9.00000000e+00, 2.54263000e+02,\n",
       "       1.00000000e+00, 0.00000000e+00, 3.00000000e+00, 0.00000000e+00,\n",
       "       4.00000000e+00, 0.00000000e+00, 4.69000000e+02, 6.00000000e+00,\n",
       "       8.92000000e+02, 4.92000000e+02, 2.00786000e+02, 8.30000000e+01,\n",
       "       5.40000000e+01, 7.00000000e+00, 0.00000000e+00, 5.80000000e+01,\n",
       "       0.00000000e+00, 1.00000000e+00, 2.09000000e+02, 0.00000000e+00,\n",
       "       7.00000000e+00, 2.00000000e+00, 8.70000000e+01, 0.00000000e+00,\n",
       "       4.26952000e+02, 3.31000000e+02, 2.00000000e+00, 6.00000000e+00,\n",
       "       1.38552000e+02, 5.70690000e+01, 1.00000000e+00, 0.00000000e+00,\n",
       "       2.00000000e+00, 0.00000000e+00, 2.00000000e+00, 0.00000000e+00,\n",
       "       4.42077000e+02, 1.10000000e+01, 9.74000000e+02, 8.08000000e+02,\n",
       "       1.15189000e+02, 1.01000000e+02, 1.51977000e+02, 2.90000000e+01,\n",
       "       4.00000000e+00, 2.10000000e+01, 2.60000000e+01, 1.00000000e+00,\n",
       "       2.34000000e+02, 1.50000000e+01, 0.00000000e+00, 1.00000000e+00,\n",
       "       7.00000000e+01, 5.00000000e+00, 1.95077000e+02, 2.94000000e+02,\n",
       "       9.00000000e+00, 3.00000000e+00, 2.56829000e+02, 1.03247000e+02,\n",
       "       0.00000000e+00, 2.96700000e+01, 4.00000000e+00, 0.00000000e+00,\n",
       "       0.00000000e+00, 0.00000000e+00, 4.77963000e+02, 1.00000000e+01,\n",
       "       9.05000000e+02, 7.08000000e+02, 1.01627000e+02, 6.00000000e+01,\n",
       "       1.50641000e+02, 1.90000000e+01, 2.00000000e+00, 1.50000000e+01,\n",
       "       9.00000000e+00, 0.00000000e+00, 2.45000000e+02, 2.20000000e+01,\n",
       "       1.10000000e+01, 1.00000000e+00, 6.50000000e+01, 4.00000000e+00,\n",
       "       3.56909000e+02, 3.48000000e+02, 3.00000000e+00, 2.00000000e+00,\n",
       "       1.28621000e+02, 8.87720000e+01, 0.00000000e+00, 1.82040000e+01,\n",
       "       7.00000000e+00, 1.00000000e+00, 3.00000000e+00, 0.00000000e+00,\n",
       "       6.55000000e+02, 2.00000000e+01, 5.11000000e+02, 1.57656000e+02,\n",
       "       2.66000000e+02, 9.76390000e+01, 1.80000000e+01, 1.00000000e+00,\n",
       "       2.20000000e+01, 1.40000000e+01, 0.00000000e+00, 2.97000000e+02,\n",
       "       9.00000000e+00, 0.00000000e+00, 2.00000000e+00, 8.30000000e+01,\n",
       "       1.00000000e+00, 2.18750990e+02, 2.58000000e+02, 2.00000000e+00,\n",
       "       2.00000000e+00, 2.05541000e+02, 7.03850000e+01, 1.00000000e+00,\n",
       "       1.06119995e+01, 9.00000000e+00, 0.00000000e+00, 2.00000000e+00,\n",
       "       0.00000000e+00, 4.25449000e+02, 7.00000000e+00, 9.39000000e+02,\n",
       "       7.16000000e+02, 1.93776000e+02, 1.33000000e+02, 1.43356000e+02,\n",
       "       1.50000000e+01, 0.00000000e+00, 1.60000000e+01, 1.80000000e+01,\n",
       "       1.00000000e+00, 2.18000000e+02, 3.20000000e+01, 4.00000000e+00,\n",
       "       1.00000000e+00, 5.10000000e+01, 1.00000000e+00, 3.15396000e+02,\n",
       "       2.36000000e+02, 1.00000000e+00, 7.00000000e+00, 3.88726000e+02,\n",
       "       9.98280000e+01, 0.00000000e+00, 2.54170000e+01, 5.00000000e+00,\n",
       "       0.00000000e+00, 0.00000000e+00, 0.00000000e+00, 3.02000000e+02,\n",
       "       4.00000000e+00, 3.88000000e+02, 1.81000000e+02, 8.90000000e+01,\n",
       "       9.09330000e+01, 1.20000000e+01, 1.00000000e+00, 2.00000000e+01,\n",
       "       9.00000000e+00, 0.00000000e+00, 2.90000000e+02, 0.00000000e+00,\n",
       "       1.00000000e+00, 0.00000000e+00, 1.20000000e+01, 1.00000000e+00,\n",
       "       5.98030000e+01, 3.12000000e+02, 5.00000000e+00, 6.00000000e+00,\n",
       "       1.04162000e+02, 5.30000000e+01, 7.22333000e+02, 0.00000000e+00,\n",
       "       3.00000000e+00, 5.00000000e+00, 0.00000000e+00, 1.00000000e+00,\n",
       "       0.00000000e+00, 3.46863000e+02, 1.00000000e+01, 6.59000000e+02,\n",
       "       5.22000000e+02, 1.43368000e+02, 8.00000000e+01, 1.51325000e+02,\n",
       "       9.00000000e+00, 2.00000000e+00, 6.00000000e+00, 2.10000000e+01,\n",
       "       0.00000000e+00, 1.32000000e+02, 6.00000000e+00, 5.00000000e+00,\n",
       "       3.00000000e+00, 8.90000000e+01, 4.00000000e+00, 1.57430010e+02,\n",
       "       2.39000000e+02, 8.00000000e+00, 1.00000000e+00, 1.20466000e+02,\n",
       "       5.60190000e+01, 0.00000000e+00, 5.00000000e+00, 4.00000000e+00,\n",
       "       0.00000000e+00, 6.00000000e+00, 0.00000000e+00, 4.63002000e+02,\n",
       "       2.00000000e+00, 6.41000000e+02, 7.05000000e+02, 1.04933000e+02,\n",
       "       8.60000000e+01, 1.11979004e+02, 2.20000000e+01, 0.00000000e+00,\n",
       "       9.00000000e+00, 2.10000000e+01, 1.00000000e+00, 1.58000000e+02,\n",
       "       9.00000000e+00, 2.10000000e+01, 1.00000000e+00, 5.80000000e+01,\n",
       "       1.00000000e+00, 1.59795000e+02, 2.20000000e+02, 3.00000000e+00,\n",
       "       1.00000000e+00, 1.78191000e+02, 9.07780000e+01, 1.00000000e+00,\n",
       "       5.47200000e+00, 5.00000000e+00, 0.00000000e+00, 2.00000000e+00,\n",
       "       0.00000000e+00, 2.95000000e+02, 8.00000000e+00, 2.71000000e+02,\n",
       "       2.51000000e+02, 1.36000000e+02, 4.90000000e+01, 2.00000000e+00,\n",
       "       1.00000000e+00, 1.60000000e+01, 1.30000000e+01, 0.00000000e+00,\n",
       "       2.29000000e+02, 0.00000000e+00, 0.00000000e+00, 2.00000000e+00,\n",
       "       2.20000000e+01, 1.00000000e+00, 1.69771000e+02, 2.69000000e+02,\n",
       "       0.00000000e+00, 5.00000000e+00, 2.10722000e+02, 8.00000000e+01,\n",
       "       6.73885000e+02, 0.00000000e+00, 0.00000000e+00, 1.50000000e+01,\n",
       "       0.00000000e+00, 8.00000000e+00, 0.00000000e+00, 1.01651300e+03,\n",
       "       3.60000000e+01, 3.52400000e+02, 4.31000000e+02, 5.25295000e+02,\n",
       "       4.70000000e+01, 5.00000000e+00, 1.42000000e+02, 7.00000000e+01,\n",
       "       3.00000000e+00, 4.59000000e+02, 1.90000000e+01, 3.00000000e+00,\n",
       "       2.80000000e+01, 2.26000000e+02, 7.00000000e+00, 7.59851000e+02,\n",
       "       4.58000000e+02, 3.20000000e+01, 4.00000000e+01, 4.56322000e+02,\n",
       "       1.30000000e+01, 9.59860000e+01, 6.00000000e+00, 0.00000000e+00,\n",
       "       1.20000000e+01, 0.00000000e+00, 8.37780000e+02, 3.30000000e+01,\n",
       "       4.45720000e+02, 2.28000000e+02, 4.05855000e+02, 3.40000000e+01,\n",
       "       1.00000000e+00, 8.30000000e+01, 9.70000000e+01, 1.00000000e+00,\n",
       "       5.10000000e+02, 4.00000000e+00])"
      ]
     },
     "execution_count": 317,
     "metadata": {},
     "output_type": "execute_result"
    }
   ],
   "source": [
    "below_both = sales[(sales < np.median(random_sample)) & (sales < np.mean(random_sample))]\n",
    "below_both"
   ]
  },
  {
   "cell_type": "code",
   "execution_count": null,
   "id": "2aebf230",
   "metadata": {},
   "outputs": [],
   "source": []
  }
 ],
 "metadata": {
  "kernelspec": {
   "display_name": "Python 3 (ipykernel)",
   "language": "python",
   "name": "python3"
  },
  "language_info": {
   "codemirror_mode": {
    "name": "ipython",
    "version": 3
   },
   "file_extension": ".py",
   "mimetype": "text/x-python",
   "name": "python",
   "nbconvert_exporter": "python",
   "pygments_lexer": "ipython3",
   "version": "3.12.4"
  }
 },
 "nbformat": 4,
 "nbformat_minor": 5
}
